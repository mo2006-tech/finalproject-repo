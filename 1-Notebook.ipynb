{
 "cells": [
  {
   "cell_type": "markdown",
   "metadata": {},
   "source": [
    "<center>\n",
    "    <img src=\"https://cf-courses-data.s3.us.cloud-object-storage.appdomain.cloud/IBMDeveloperSkillsNetwork-DS0105EN-SkillsNetwork/labs/Module2/images/SN_web_lightmode.png\" width=\"300\" alt=\"cognitiveclass.ai logo\">\n",
    "</center>\n"
   ]
  },
  {
   "cell_type": "markdown",
   "metadata": {},
   "source": [
    "#### Add your code below following the instructions given in the course\n"
   ]
  },
  {
   "cell_type": "markdown",
   "metadata": {},
   "source": [
    "## mohammad abu sbeih's project"
   ]
  },
  {
   "cell_type": "markdown",
   "metadata": {},
   "source": [
    "this project for submitting everything i learned from tools for data science course from IBM\n"
   ]
  },
  {
   "cell_type": "markdown",
   "metadata": {},
   "source": [
    "#### Data science tools\n",
    "- python\n",
    "- SQL\n",
    "- R\n",
    "- julia\n",
    "- javascript\n",
    "- scala\n",
    "\n"
   ]
  },
  {
   "cell_type": "markdown",
   "metadata": {},
   "source": [
    "### Data science libraries\n",
    "- pandas\n",
    "- numpy\n",
    "- scikit learn\n",
    "- matplotlib\n",
    "- ggplot2\n",
    "- tensorflow\n",
    "- scipy\n",
    "- dplyr\n",
    "- caret"
   ]
  },
  {
   "cell_type": "markdown",
   "metadata": {},
   "source": [
    "\n",
    "### Data science tools table\n",
    "| Tool      | benefit                                                                      |\n",
    "|-----------|----------------------------------------------------------------------------- |\n",
    "| python    | data analysis and visualization and machine learning|                        |\n",
    "| R         | data visualization                                                           |\n",
    "| SQL       | exporting Data and work with it                                              |\n",
    "| julia     | working with scientific data                                                 |\n",
    "| Javascript| working with web data and have a specialize libraries for data visualization |\n",
    "| Scala     | for big data with Apache Spark                                               |"
   ]
  },
  {
   "cell_type": "markdown",
   "metadata": {},
   "source": [
    "### types \n",
    "int,float,boolean\n",
    "## arethmatic expression examples\n",
    "#### Addition:\n",
    " 1 + 5 = 6\n",
    "#### subtracion:\n",
    " 5 - 1 = 4\n",
    "#### multiplication:\n",
    "5 * 2 = 10\n",
    "#### Division:\n",
    "10 / 2 = 5\n",
    "#### pemdas:\n",
    "parentheses > Exponents > multiblication, division > addition, subtraction"
   ]
  },
  {
   "cell_type": "code",
   "execution_count": 1,
   "metadata": {},
   "outputs": [
    {
     "name": "stdout",
     "output_type": "stream",
     "text": [
      "Multiplying numbers\n",
      "20\n",
      "adding numbers\n",
      "9\n"
     ]
    }
   ],
   "source": [
    "print(\"Multiplying numbers\")\n",
    "a = 4\n",
    "b = 5\n",
    "z = a * b \n",
    "print(z)\n",
    "print(\"adding numbers\")\n",
    "c = a + b\n",
    "print(c)"
   ]
  },
  {
   "cell_type": "code",
   "execution_count": 5,
   "metadata": {},
   "outputs": [
    {
     "name": "stdin",
     "output_type": "stream",
     "text": [
      "inter the time in minutes 140\n"
     ]
    },
    {
     "name": "stdout",
     "output_type": "stream",
     "text": [
      " 140 minutes = 2 hours + 20 minutes\n"
     ]
    }
   ],
   "source": [
    "minutes  = int(input(\"inter the time in minutes\"))\n",
    "hours = int(minutes / 60)\n",
    "minutes_remaining = minutes % 60\n",
    "print(f\" {minutes} minutes = {hours} hours + {minutes_remaining} minutes\")"
   ]
  },
  {
   "cell_type": "markdown",
   "metadata": {},
   "source": [
    "## it used to converts any time from minutes to hours"
   ]
  },
  {
   "cell_type": "markdown",
   "metadata": {},
   "source": [
    "# Mohammad Abu Sbeih"
   ]
  },
  {
   "cell_type": "code",
   "execution_count": null,
   "metadata": {},
   "outputs": [],
   "source": []
  }
 ],
 "metadata": {
  "kernelspec": {
   "display_name": "Python 3 (ipykernel)",
   "language": "python",
   "name": "python3"
  },
  "language_info": {
   "codemirror_mode": {
    "name": "ipython",
    "version": 3
   },
   "file_extension": ".py",
   "mimetype": "text/x-python",
   "name": "python",
   "nbconvert_exporter": "python",
   "pygments_lexer": "ipython3",
   "version": "3.12.8"
  }
 },
 "nbformat": 4,
 "nbformat_minor": 4
}
